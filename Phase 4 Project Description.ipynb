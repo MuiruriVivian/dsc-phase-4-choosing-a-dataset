{
 "cells": [
  {
   "cell_type": "markdown",
   "id": "c97b139c",
   "metadata": {},
   "source": [
    "# Phase 4 Project Description"
   ]
  },
  {
   "cell_type": "markdown",
   "id": "ec76f98b",
   "metadata": {},
   "source": [
    "Final phase down -- you're absolutely crushing it! You've made it all the way through one of the toughest phases of this course. You must have an amazing brain in your head!\n",
    "\n",
    "You have one last project to complete before the Capstone. In this project description, we will cover:\n",
    "\n",
    "* Project Overview\n",
    "* Deliverables\n",
    "* Grading\n",
    "* Getting Started"
   ]
  },
  {
   "cell_type": "markdown",
   "id": "3ab66f25",
   "metadata": {},
   "source": [
    "## Project Overview"
   ]
  },
  {
   "cell_type": "markdown",
   "id": "44162dff",
   "metadata": {},
   "source": [
    "For this project, you will engage in an **advanced supervised modeling process** from start to finish, solving either a classification or a regression problem using an advanced dataset."
   ]
  },
  {
   "cell_type": "markdown",
   "id": "f1859394",
   "metadata": {},
   "source": [
    "### Business Problem and Data"
   ]
  },
  {
   "cell_type": "markdown",
   "id": "eda1cbb6",
   "metadata": {},
   "source": [
    "Similar to the Phase 3 project, you are responsible for choosing a dataset as well as defining a stakeholder and business problem. In addition to these choices, you can choose between any of the advanced supervised modeling techniques covered in Phase 4:\n",
    "\n",
    "- Recommendation Systems\n",
    "- Model Interpretability\n",
    "- Natural Language Processing\n",
    "\n",
    "You should also think about how you will interpret and explain your models results to your audience.\n",
    "\n",
    "For complete details, see [Phase 4 Project - Choosing a Dataset](https://github.com/learn-co-curriculum/dsc-phase-4-choosing-a-dataset-v3)."
   ]
  },
  {
   "cell_type": "markdown",
   "id": "2a2d11aa",
   "metadata": {},
   "source": [
    "### Key Points"
   ]
  },
  {
   "cell_type": "markdown",
   "id": "1d1eea3b",
   "metadata": {},
   "source": [
    "#### Advanced Data Types and Modeling"
   ]
  },
  {
   "cell_type": "markdown",
   "id": "65ba5c42",
   "metadata": {},
   "source": [
    "The purpose of this project is to demonstrate that you have mastered the basics of some type of modeling technique beyond the techniques introduced in Phase 3. This is your chance to tailor your work to a **data science audience** in particular, with a clear notebook narrative that illustrates your process. The resulting presentation slides will be substantially similar to a Phase 3 presentation, but someone reading your notebook should be able to see your grasp of the specific advanced modeling technique."
   ]
  },
  {
   "cell_type": "markdown",
   "id": "b0b69847",
   "metadata": {},
   "source": [
    "#### Validation Strategy"
   ]
  },
  {
   "cell_type": "markdown",
   "id": "aa287914",
   "metadata": {},
   "source": [
    "A **validation strategy** means a strategy to demonstrate that your model will actually perform well on unseen data. You could use the `train_test_split` function from scikit-learn. This may or may not be appropriate for the project you select. Make sure that you are thinking about this strategy from the start and incorporating it into your notebook narrative."
   ]
  },
  {
   "cell_type": "markdown",
   "id": "f190672b",
   "metadata": {},
   "source": [
    "#### Choosing a Dataset"
   ]
  },
  {
   "cell_type": "markdown",
   "id": "a85c38ec",
   "metadata": {},
   "source": [
    "We've given you a lot of choices - don't get stuck spending too much time choosing which project to do. Give yourself a firm time limit for picking a project (e.g. 2 hours) so you can get on with making something great. Don't worry about picking the perfect project - remember that you will get to do a new, larger Capstone project very soon!"
   ]
  },
  {
   "cell_type": "markdown",
   "id": "cbade4ff",
   "metadata": {},
   "source": [
    "## The Deliverables"
   ]
  },
  {
   "cell_type": "markdown",
   "id": "7ea05014",
   "metadata": {},
   "source": [
    "There are three deliverables for this project:\n",
    "\n",
    "* A **non-technical presentation**\n",
    "* A **Jupyter Notebook**\n",
    "* A **GitHub repository**\n",
    "\n",
    "The checklist of requirements for Phase 4 will are outlined below, and this will also be the checklist for Capstone."
   ]
  },
  {
   "cell_type": "markdown",
   "id": "94164eac",
   "metadata": {},
   "source": [
    "### Non-Technical Presentation"
   ]
  },
  {
   "cell_type": "markdown",
   "id": "ab2770ec",
   "metadata": {},
   "source": [
    "The non-technical presentation should be very similar to the presentation you gave in Phase 3. You can feel free to mention the specific models and metrics you used, but make sure you translate everything for an audience who is not familiar with data science."
   ]
  },
  {
   "cell_type": "markdown",
   "id": "8c31ed0d",
   "metadata": {},
   "source": [
    "### Jupyter Notebook"
   ]
  },
  {
   "cell_type": "markdown",
   "id": "20fef371",
   "metadata": {},
   "source": [
    "The notebook will have the same checklist elements as in Phase 3. However, **this time around the Communication rubric element will focus on the technical notebook**. A data science professional reading your notebook should be able to understand all of your data preparation and modeling decisions."
   ]
  },
  {
   "cell_type": "markdown",
   "id": "e0932d16",
   "metadata": {},
   "source": [
    "### GitHub Repository"
   ]
  },
  {
   "cell_type": "markdown",
   "id": "e20392c8",
   "metadata": {},
   "source": [
    "The GitHub repository should also be very similar to the Phase 3 repository.\n",
    "\n",
    "The main additional element to consider is **reproducibility**, since many of the dataset options are too large to be saved directly in a GitHub repository. Make sure you include clear instructions for how someone would reproduce your modeling process, potentially including any scripts you used to organize data into directories."
   ]
  },
  {
   "cell_type": "markdown",
   "id": "4cafab0d",
   "metadata": {},
   "source": [
    "## Grading"
   ]
  },
  {
   "cell_type": "markdown",
   "id": "8482f666",
   "metadata": {},
   "source": [
    "***To pass this project, you must pass each rubric objective.*** The project rubric objectives for Phase 4 are:\n",
    "\n",
    "1. Advanced ML Communication\n",
    "2. Advanced Data Preparation\n",
    "3. Advanced ML Modeling"
   ]
  },
  {
   "cell_type": "markdown",
   "id": "96540983",
   "metadata": {},
   "source": [
    "### Advanced ML Communication"
   ]
  },
  {
   "cell_type": "markdown",
   "id": "12c09e76",
   "metadata": {},
   "source": [
    "You are expected to communicate the results of an ML modeling process. We are looking for *rationale, results, limitations, and recommendations.*\n",
    "\n",
    "In Phase 4, the emphasis is on the **Jupyter Notebook**. The notebook should include a **summary** at the beginning that briefly and accurately describes your process. The summary should be approximately 250 words -- about the size of a research paper abstract.\n",
    "\n",
    "Summary elements:\n",
    "\n",
    "* Business and data understanding: *what kind of data are you using, and what makes it well-suited for the business problem?*\n",
    "  * You do not need to include any data visualizations in your summary, but consider including relevant descriptive statistics\n",
    "* Data preparation: *why did you choose the data preparation steps that you did, and what was the result?*\n",
    "  * This should be specific to the kind of data you are working with. For example, if you are doing an NLP project, what did you decide to do with stopwords?\n",
    "  * Be sure to list the packages/libraries used to prepare the data, and why\n",
    "* Modeling: *what modeling package(s) did you use, which model(s) within the package(s), and what tuning steps did you take?*\n",
    "  * For some projects there may be only one applicable package; you should still briefly explain why this was the appropriate choice\n",
    "* Evaluation: *how well did your final model perform?*\n",
    "  * Include one or more relevant metrics\n",
    "  * Be sure to briefly describe your validation approach"
   ]
  },
  {
   "cell_type": "markdown",
   "id": "ac9ae4a8",
   "metadata": {},
   "source": [
    "#### Exceeds Objective"
   ]
  },
  {
   "cell_type": "markdown",
   "id": "0b1538e0",
   "metadata": {},
   "source": [
    "ommunicates advanced modeling summary as well as a narrative throughout the notebook text that demonstrates mastery of an advanced topic\n",
    "\n",
    "> Decisions should be justified and outcomes evaluated in Markdown throughout the notebook"
   ]
  },
  {
   "cell_type": "markdown",
   "id": "8618a7a1",
   "metadata": {},
   "source": [
    "#### Meets Objective (Passing Bar)"
   ]
  },
  {
   "cell_type": "markdown",
   "id": "7b423d69",
   "metadata": {},
   "source": [
    "Successfully communicates a summary of an advanced modeling technique including business and data understanding, data preparation, modeling, and evaluation\n",
    "\n",
    "> It is possible to meet this bar with just a summary and not a narrative throughout the notebook, so long as the steps taken are justifiable and free of major errors. See the Approaching Objective section for an explanation of what a \"major error\" means."
   ]
  },
  {
   "cell_type": "markdown",
   "id": "fad397ce",
   "metadata": {},
   "source": [
    "#### Approaching Objective"
   ]
  },
  {
   "cell_type": "markdown",
   "id": "ba010f05",
   "metadata": {},
   "source": [
    "Communicates advanced modeling summary with at least one major error\n",
    "\n",
    "> A major error means that one of the required elements of the summary was missing, or some aspect of the communication was fundamentally incorrect. For example, if you stated that you performed \"deep learning\" when you actually used `CountVectorizer` and `MultinomialNB` from scikit-learn, that would be a major error. Another example would be if you described a regression task as a classification task, or if you described supervised learning as unsupervised learning."
   ]
  },
  {
   "cell_type": "markdown",
   "id": "eb1141be",
   "metadata": {},
   "source": [
    "#### Does Not Meet Objective"
   ]
  },
  {
   "cell_type": "markdown",
   "id": "ecb1b3f4",
   "metadata": {},
   "source": [
    "Does not communicate advanced modeling summary\n",
    "\n",
    "> Markdown headings and occasional narrative text throughout the notebook are not sufficient in this phase, even if they were in previous phases. You need to include a summary at the beginning of your notebook."
   ]
  },
  {
   "cell_type": "markdown",
   "id": "fad66b50",
   "metadata": {},
   "source": [
    "### Advanced Data Preparation"
   ]
  },
  {
   "cell_type": "markdown",
   "id": "d3b751e9",
   "metadata": {},
   "source": [
    "Once again, this objective is very similar to Phase 3, although the complexity has increased."
   ]
  },
  {
   "cell_type": "markdown",
   "id": "eb708a2d",
   "metadata": {},
   "source": [
    "#### Exceeds Objective"
   ]
  },
  {
   "cell_type": "markdown",
   "id": "e073fb51",
   "metadata": {},
   "source": [
    "Goes above and beyond with data preparation, such as feature engineering, using pipelines, or using unsupervised techniques\n",
    "\n",
    "> Supervised learning is the core of this project, but feel free to use unsupervised techniques for data analysis or preparation"
   ]
  },
  {
   "cell_type": "markdown",
   "id": "28afbf60",
   "metadata": {},
   "source": [
    "#### Meets Objective (Passing Bar)"
   ]
  },
  {
   "cell_type": "markdown",
   "id": "a90cdacc",
   "metadata": {},
   "source": [
    "Successfully prepares data for modeling, using at least one Python package other than scikit-learn\n",
    "\n",
    "> Your final model does not need to use anything other than scikit-learn, but you should explore other tools during your modeling process"
   ]
  },
  {
   "cell_type": "markdown",
   "id": "9fec50bb",
   "metadata": {},
   "source": [
    "#### Approaching Objective"
   ]
  },
  {
   "cell_type": "markdown",
   "id": "bec2a73b",
   "metadata": {},
   "source": [
    "Prepares some data successfully, but has at least one major error"
   ]
  },
  {
   "cell_type": "markdown",
   "id": "f7fd213f",
   "metadata": {},
   "source": [
    "#### Does Not Meet Objective"
   ]
  },
  {
   "cell_type": "markdown",
   "id": "1982d14a",
   "metadata": {},
   "source": [
    "Does not prepare data for modeling"
   ]
  },
  {
   "cell_type": "markdown",
   "id": "c1948abd",
   "metadata": {},
   "source": [
    "### Advanced ML Modeling"
   ]
  },
  {
   "cell_type": "markdown",
   "id": "e2de3e4b",
   "metadata": {},
   "source": [
    "This is your real opportunity to flex those new Phase 4 skills!"
   ]
  },
  {
   "cell_type": "markdown",
   "id": "4c6b6069",
   "metadata": {},
   "source": [
    "#### Exceeds Objective"
   ]
  },
  {
   "cell_type": "markdown",
   "id": "183c2397",
   "metadata": {},
   "source": [
    "Goes above and beyond in the modeling process, such as using models from multiple different packages and different model explainability tools\n",
    "\n",
    "> You are encouraged but not required to use models from multiple different packages. The feasibility of this depends on your choice of project. For time series, this might mean trying both StatsModels and Prophet. For image classification, this might mean using TensorFlow with and without transfer learning.\n",
    "\n",
    "> See [this book chapter](https://christophm.github.io/interpretable-ml-book/lime.html) for an introduction to LIME for model explainability"
   ]
  },
  {
   "cell_type": "markdown",
   "id": "dc8c6ae7",
   "metadata": {},
   "source": [
    "#### Meets Objective (Passing Bar)"
   ]
  },
  {
   "cell_type": "markdown",
   "id": "565ec035",
   "metadata": {},
   "source": [
    "Successfully builds and evaluates multiple models using an appropriate model validation technique and uses built in model explainability tools\n",
    "\n",
    "> As noted previously, the `train_test_split` from scikit-learn may or may not be appropriate for your modeling task. Be sure to investigate appropriate techniques so you are confident in the performance of your final model on unseen data"
   ]
  },
  {
   "cell_type": "markdown",
   "id": "047cf4d8",
   "metadata": {},
   "source": [
    "#### Approaching Objective"
   ]
  },
  {
   "cell_type": "markdown",
   "id": "c0dea477",
   "metadata": {},
   "source": [
    "Builds multiple models with at least one major error"
   ]
  },
  {
   "cell_type": "markdown",
   "id": "2e0a1573",
   "metadata": {},
   "source": [
    "#### Does Not Meet Objective"
   ]
  },
  {
   "cell_type": "markdown",
   "id": "a91b9814",
   "metadata": {},
   "source": [
    "Does not build multiple models and does not use model explanability"
   ]
  },
  {
   "cell_type": "markdown",
   "id": "e5854c38",
   "metadata": {},
   "source": [
    "## Getting Started"
   ]
  },
  {
   "cell_type": "markdown",
   "id": "91f09166",
   "metadata": {},
   "source": [
    "Please start by reviewing the contents of this project description. If you have any questions, please ask your instructor ASAP.\n",
    "\n",
    "Once you are ready to begin the project, you will need to complete the Project Proposal.\n",
    "\n",
    "Recall that more information is available in [Phase 4 Project - Choosing a Dataset](https://github.com/learn-co-curriculum/dsc-phase-4-choosing-a-dataset).\n",
    "\n",
    "To get started with project development, create a new repository on GitHub. For this project, we recommend that you do not fork the template repository, but rather that you make a new repository from scratch, starting by going to [github.com/new](https://github.com/new)."
   ]
  },
  {
   "cell_type": "markdown",
   "id": "f832ed82",
   "metadata": {},
   "source": [
    "## Summary"
   ]
  },
  {
   "cell_type": "markdown",
   "id": "586c66fc",
   "metadata": {},
   "source": [
    "This project is your chance to show off your data science prowess with some advanced machine learning algorithms. Now that you've gone through all of the core course content, we're excited to see what you are able to do!"
   ]
  }
 ],
 "metadata": {
  "kernelspec": {
   "display_name": "Python (learn-env)",
   "language": "python",
   "name": "learn-env"
  },
  "language_info": {
   "codemirror_mode": {
    "name": "ipython",
    "version": 3
   },
   "file_extension": ".py",
   "mimetype": "text/x-python",
   "name": "python",
   "nbconvert_exporter": "python",
   "pygments_lexer": "ipython3",
   "version": "3.9.16"
  }
 },
 "nbformat": 4,
 "nbformat_minor": 5
}
